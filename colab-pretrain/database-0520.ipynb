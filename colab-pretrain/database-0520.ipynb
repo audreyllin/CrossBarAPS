{
  "nbformat": 4,
  "nbformat_minor": 0,
  "metadata": {
    "colab": {
      "provenance": []
    },
    "kernelspec": {
      "name": "python3",
      "display_name": "Python 3"
    },
    "language_info": {
      "name": "python"
    }
  },
  "cells": [
    {
      "cell_type": "code",
      "source": [
        "import json"
      ],
      "metadata": {
        "id": "8NfRJCMWwQMT"
      },
      "execution_count": 6,
      "outputs": []
    },
    {
      "cell_type": "code",
      "source": [
        "qna_data = [\n",
        "  {\"que\": \"Merkle Tree\", \"ans\": \"A binary tree with hash pointers.\"},\n",
        "  {\"que\": \"Output (Bitcoin Transaction)\", \"ans\": \"Refers to the destination address used in the bitcoin transaction.\"},\n",
        "  {\"que\": \"Confidentiality\", \"ans\": \"Means that the transmitted message is only received by an authorized party.\"},\n",
        "  {\"que\": \"Authentication\", \"ans\": \"The verification of the identity of the sender at the receiver end.\"},\n",
        "  {\"que\": \"Genesis Block\", \"ans\": \"The very first block in the block chain of any digital currency.\"},\n",
        "  {\"que\": \"Block Reward\", \"ans\": \"The 'reward' that the Miner receives for successfully hashing a transaction block.\"},\n",
        "  {\"que\": \"Blockchain Block Structure\", \"ans\": \"Each block in the blockchain contains a cryptographic hash of the data of the previous block.\"},\n",
        "  {\"que\": \"Bitcoin Whitepaper\", \"ans\": \"Written by Satoshi Nakamoto in 2008, it describes the original plan and protocol for Bitcoin.\"},\n",
        "  {\"que\": \"Satoshi\", \"ans\": \"A Bitcoin 'cent', the smallest form of Bitcoins. One Bitcoin is equal to 1 million Satoshis.\"},\n",
        "  {\"que\": \"Ledger\", \"ans\": \"A file which keeps the record of all the transactions taking place between the two parties on the blockchain network.\"},\n",
        "  {\"que\": \"Cold Storage\", \"ans\": \"A security measure for Bitcoin that is disconnected from the internet. Could be a paper wallet, USB stick, or hardware wallet.\"},\n",
        "  {\"que\": \"Why Are Smart Contracts Superior to Traditional Contracts?\", \"ans\": \"Smart contracts provide a blockchain-based alternative to traditional agreements, addressing inefficiencies, high costs, and geographic limitations.\"},\n",
        "  {\"que\": \"Satoshi Nakamoto\", \"ans\": \"The creator of Bitcoin and the author of the original Bitcoin whitepaper and code. His real identity is unknown to the world.\"},\n",
        "  {\"que\": \"Use Cases for Smart Contracts\", \"ans\": \"Smart contracts are transforming industries since they use blockchain technology to automate, increase transparency, and save money.\"},\n",
        "  {\"que\": \"Exchange (Cryptocurrency)\", \"ans\": \"A platform where account holders can exchange one digital currency for another or a Fiat currency for a digital currency.\"},\n",
        "  {\"que\": \"Non-Repudiation\", \"ans\": \"A method of guaranteeing message transmission between parties via digital signature or encryption. It helps protect against the denial of authentication attempts.\"},\n",
        "  {\"que\": \"Transaction Fees (Bitcoin)\", \"ans\": \"Fees paid to the miner that hashes the block in que for transactions occurring in the bitcoin blockchain.\"},\n",
        "  {\"que\": \"Faucet (Cryptocurrency)\", \"ans\": \"When an individual or team pre-mines a digital currency before release and gives these coins away.\"},\n",
        "  {\"que\": \"Nonce\", \"ans\": \"Selected by miners to solve a cryptographic puzzle for generating the next block in the chain, known as proof of work.\"},\n",
        "  {\"que\": \"Peer-to-Peer (P2P) Payment System\", \"ans\": \"A decentralized system integrated with blockchain technology and MetaMask wallet for transparent transactions among users.\"},\n",
        "  {\"que\": \"Fiat Currency\", \"ans\": \"A traditional currency regulated by a central authority, such as the Euro, US dollar, or Australian dollar.\"},\n",
        "  {\"que\": \"Cryptography\", \"ans\": \"A method of developing techniques and protocols to prevent unauthorized access to private messages during communication.\"},\n",
        "  {\"que\": \"Public Key\", \"ans\": \"A string of digits and letters (e.g., a Bitcoin address) used with a private key to digitally sign communications.\"},\n",
        "  {\"que\": \"Bit Pay\", \"ans\": \"A payment processing company enabling merchants like eBay and Amazon to accept Bitcoin as payment.\"},\n",
        "  {\"que\": \"ASIC Miner\", \"ans\": \"Hardware containing specialized chips (ASICs) for Bitcoin mining, independent of desktop computers.\"},\n",
        "  {\"que\": \"Bit (Unit)\", \"ans\": \"A sub-unit of Bitcoin where 1,000,000 bits equal 1 Bitcoin (BTC), often used for pricing small transactions.\"},\n",
        "  {\"que\": \"Block (Blockchain)\", \"ans\": \"A record in the blockchain that contains and confirms transactions, appended approximately every 10 minutes via mining.\"},\n",
        "  {\"que\": \"ASIC\", \"ans\": \"Application-Specific Integrated Circuit, a specialized chip for tasks like Bitcoin mining using SHA-256.\"},\n",
        "  {\"que\": \"Mt. Gox\", \"ans\": \"One of the first Bitcoin exchanges that collapsed in 2014 after losing 850,000 Bitcoins to theft.\"},\n",
        "  {\"que\": \"Smart Contracts\", \"ans\": \"Self-executing code on the blockchain that automates transactions without inqueediaries.\"},\n",
        "  {\"que\": \"Dogecoin\", \"ans\": \"An altcoin created as a joke in 2013, featuring a Japanese fighting dog mascot and gaining significant market value.\"},\n",
        "  {\"que\": \"How Do Smart Contracts Work?\", \"ans\": \"They operate on blockchain networks using if/then logic to execute predefined actions automatically when conditions are met.\"},\n",
        "  {\"que\": \"SHA-256\", \"ans\": \"The cryptographic hash function used in Bitcoin for creating hashes and proof of work.\"},\n",
        "  {\"que\": \"Proof of Work (PoW)\", \"ans\": \"A consensus mechanism where miners solve cryptographic puzzles to validate transactions and create new blocks.\"},\n",
        "  {\"que\": \"Bitcoin Index\", \"ans\": \"A live index showing Bitcoin's value against major fiat currencies like EUR, USD, JPY, GBP, and AUD.\"},\n",
        "  {\"que\": \"Paper Wallet\", \"ans\": \"A printed sheet storing public and private keys, often used for cold storage security.\"},\n",
        "  {\"que\": \"When Are Smart Legal Contracts Used?\", \"ans\": \"They combine blockchain efficiency with legal enforceability, bridging crypto solutions and traditional legal frameworks.\"},\n",
        "  {\"que\": \"Microtransaction\", \"ans\": \"Small transactions enabled by Bitcoin's divisibility (up to 8 decimal places), useful for services like gaming.\"},\n",
        "  {\"que\": \"BTC\", \"ans\": \"Shorthand for Bitcoin, a decentralized digital currency created in 2009.\"},\n",
        "  {\"que\": \"Silk Road\", \"ans\": \"An underground dark web marketplace using Bitcoin for illegal goods, shut down by the FBI in 2013.\"},\n",
        "  {\"que\": \"Hash Rate\", \"ans\": \"The processing power of the Bitcoin network, measured in calculations per second (e.g., terahashes).\"},\n",
        "  {\"que\": \"Double Spending\", \"ans\": \"A fraud attempt where a user tries to spend the same Bitcoin with two recipients, prevented by blockchain consensus.\"},\n",
        "  {\"que\": \"Cryptocurrency Wallets\", \"ans\": \"Types include web-based, app-based, hardware, and paper wallets, evaluated using OWASP IoT guidelines.\"},\n",
        "  {\"que\": \"Paper Wallet (Storage)\", \"ans\": \"A printed image containing public/private keys and QR codes, stored securely offline.\"},\n",
        "  {\"que\": \"Bitcoin Address\", \"ans\": \"An alphanumeric identifier (26-35 characters) used to receive Bitcoin, intended for single transactions.\"},\n",
        "  {\"que\": \"Peer-to-Peer (P2P)\", \"ans\": \"A decentralized system where users interact directly without inqueediaries, as in Bitcoin's network.\"},\n",
        "  {\"que\": \"Hardware Wallets\", \"ans\": \"Physical devices (e.g., USB sticks) offering high security for storing and sending Bitcoin.\"},\n",
        "  {\"que\": \"Proof of Work (Consensus)\", \"ans\": \"The original blockchain algorithm where miners compete to validate transactions and earn rewards.\"},\n",
        "  {\"que\": \"Blockchain\", \"ans\": \"A distributed digital ledger secured by cryptography, recording all transactions in a tamper-proof chain.\"},\n",
        "  {\"que\": \"Bitcoin Mining Rig\", \"ans\": \"Hardware used to mine Bitcoin, ranging from custom setups to energy-efficient machines.\"},\n",
        "  {\"que\": \"Altcoin\", \"ans\": \"Any cryptocurrency other than Bitcoin, operating on its own blockchain with distinct rules.\"},\n",
        "  {\"que\": \"Hash Tree\", \"ans\": \"A tree where nodes contain cryptographic hashes, allowing secure verification of large data structures.\"},\n",
        "  {\"que\": \"Cold Wallet vs. Hot Wallet\", \"ans\": \"Cold wallets are offline and secure; hot wallets are online and convenient but more vulnerable.\"},\n",
        "  {\"que\": \"Private Key\", \"ans\": \"A secret data piece proving ownership of cryptocurrency funds, stored in software or hardware wallets.\"},\n",
        "  {\"que\": \"Cryptocurrency\", \"ans\": \"Digital currencies using blockchain for peer-to-peer transactions without inqueediaries.\"},\n",
        "  {\"que\": \"Cryptography (Blockchain)\", \"ans\": \"Ensures Bitcoin security by preventing fund theft and blockchain tampering through encryption.\"},\n",
        "  {\"que\": \"Hardware Wallet vs. Soft Wallet\", \"ans\": \"Hardware wallets are physical and secure; soft wallets are apps for daily use but riskier online.\"},\n",
        "  {\"que\": \"Confirmation (Blockchain)\", \"ans\": \"A transaction is confirmed when added to a block, with security increasing exponentially per subsequent block.\"},\n",
        "  {\"que\": \"Cryptographic Signature\", \"ans\": \"A mathematical proof of ownership using private keys, verified by the network without exposing the key.\"},\n",
        "  {\"que\": \"Dusting Attack Prevention\", \"ans\": \"Use HD wallets for new addresses, mark dust UTXOs as 'do not spend,' or use Tor/VPN for privacy.\"},\n",
        "  {\"que\": \"Last Bitcoin Mined\", \"ans\": \"Expected in 2140; miners will then rely on transaction fees for blockchain maintenance.\"},\n",
        "  {\"que\": \"Smart Contract ans\", \"ans\": \"A digital agreement on a blockchain that executes automatically when predefined conditions are met.\"},\n",
        "  {\"que\": \"Bitcoin Wallet\", \"ans\": \"Stores private keys to manage Bitcoin balances and transactions, unlike credit card systems.\"},\n",
        "  {\"que\": \"Proof of Stake (PoS)\", \"ans\": \"A consensus algorithm where validators are chosen based on staked cryptocurrency, as in Ethereum 2.0.\"},\n",
        "  {\"que\": \"Block Structure (Technical)\", \"ans\": \"Identified by block height/hash, secured via hash functions and immutability to prevent tampering.\"},\n",
        "  {\"que\": \"Custody of Crypto Keys\", \"ans\": \"Exchanges can hold keys, but users risk loss if the platform is compromised (\\\"not your keys, not your coins\\\").\"},\n",
        "  {\"que\": \"Private Key Security\", \"ans\": \"Users must safeguard keys via wallets; hardware wallets are most secure.\"},\n",
        "  {\"que\": \"Dusting Attack Concerns\", \"ans\": \"Generally low risk unless handling large amounts or in high-risk areas; privacy tools mitigate threats.\"},\n",
        "  {\"que\": \"Paper Wallet Usage\", \"ans\": \"Once popular for cold storage but now less recommended due to better options like hardware wallets.\"},\n",
        "  {\"que\": \"Cryptographic Hash\", \"ans\": \"A unique, irreversible code identifying files, crucial for Bitcoin mining and data integrity.\"},\n",
        "  {\"que\": \"Public vs. Private Key\", \"ans\": \"Public keys receive funds; private keys authorize spending, both essential for crypto security.\"},\n",
        "  {\"que\": \"Anonymity in Crypto\", \"ans\": \"Privacy-focused coins like Monero enhance anonymity, critical for users in restrictive regions.\"},\n",
        "  {\"que\": \"Cryptojacking\", \"ans\": \"Unauthorized use of devices to mine crypto via malware or browser scripts, including server/employee exploitation.\"},\n",
        "  {\"que\": \"Holding Private Keys\", \"ans\": \"Self-custody via seed phrases ensures control, per the mantra 'not your keys, not your coins'.\"},\n",
        "  {\"que\": \"Hardware vs. Hot Wallet Difference\", \"ans\": \"Hardware wallets are offline/physical; hot wallets are online/app-based with higher convenience but lower security.\"},\n",
        "  {\"que\": \"Bitcoin Mining Purpose\", \"ans\": \"Secures the network via PoW, requiring computational power to validate transactions and create new blocks.\"},\n",
        "  {\"que\": \"Irreversible Transactions\", \"ans\": \"Blockchain transactions cannot be reversed, posing risks if hacked (e.g., stolen funds).\"},\n",
        "  {\"que\": \"Mt. Gox Collapse\", \"ans\": \"Highlighted security flaws, leading to bankruptcy after losing 850,000 BTC to undetected hacks.\"},\n",
        "  {\"que\": \"Online Wallets\", \"ans\": \"Web-based wallets vulnerable to attacks; advised not to store large amounts of crypto.\"},\n",
        "  {\"que\": \"Best Crypto Wallet Type\", \"ans\": \"Depends on needs: hardware wallets for security, software wallets for daily transactions.\"},\n",
        "  {\"que\": \"Cold Wallet vs. Hardware Wallet\", \"ans\": \"All hardware wallets are cold wallets, but cold wallets can also include paper or offline computers.\"},\n",
        "  {\"que\": \"Public/Private Key Importance\", \"ans\": \"Enable self-custody; offline storage of private keys prevents hacking compared to exchange storage.\"},\n",
        "  {\"que\": \"Losing Private Keys\", \"ans\": \"Recovery via seed phrase is possible; losing both means permanent loss of access.\"},\n",
        "  {\"que\": \"PoS vs. PoW\", \"ans\": \"PoW is energy-intensive; PoS is eco-friendly, scalable, and uses staking for security.\"},\n",
        "  {\"que\": \"Decentralization\", \"ans\": \"Core to blockchain, removing inqueediaries but facing scalability trade-offs.\"},\n",
        "  {\"que\": \"Remaining Bitcoin Supply\", \"ans\": \"~2 million BTC left to mine by 2140, with halving events reducing rewards over time.\"},\n",
        "  {\"que\": \"Bitcoin Mining Rigs Necessity\", \"ans\": \"Essential for PoW to solve puzzles and maintain decentralized security every ~10 minutes.\"},\n",
        "  {\"que\": \"Privacy Tokens\", \"ans\": \"Coins like Zcash using advanced cryptography for anonymity, facing regulatory challenges.\"},\n",
        "  {\"que\": \"Satoshi Nakamoto Identity\", \"ans\": \"Pseudonymous creator of Bitcoin who disappeared in 2010, leaving a legacy of decentralization.\"},\n",
        "  {\"que\": \"Bitcoin Cash Creation\", \"ans\": \"Forked from Bitcoin in 2017 to increase block size for faster transactions.\"},\n",
        "  {\"que\": \"Centralized vs. Decentralized Lending\", \"ans\": \"Centralized platforms resemble banks; decentralized platforms use smart contracts for P2P loans.\"},\n",
        "  {\"que\": \"Pseudonymity in Crypto\", \"ans\": \"Addresses provide pseudonymity, but transactions can be traced to real identities.\"},\n",
        "  {\"que\": \"Cryptojacking Origins\", \"ans\": \"Became prominent in 2017 with Coinhive, later exploited by hackers for secret mining.\"},\n",
        "  {\"que\": \"Bitcoin Creator Mystery\", \"ans\": \"Satoshi Nakamoto's true identity remains unknown despite speculation and claims.\"},\n",
        "  {\"que\": \"Proof of Stake Mechanics\", \"ans\": \"Validators stake tokens to propose blocks, rewarded for honesty, penalized for malice (slashing).\"},\n",
        "  {\"que\": \"Mining ans\", \"ans\": \"Process of validating transactions and creating new crypto units via computational effort.\"},\n",
        "  {\"que\": \"Trust in Crypto\", \"ans\": \"Blockchain eliminates third-party trust but requires trust in code and self-responsibility.\"},\n",
        "  {\"que\": \"Proof of Stake Benefits\", \"ans\": \"Energy efficiency, scalability, security via staking, and broader decentralization.\"},\n",
        "  {\"que\": \"Privacy Token Legality\", \"ans\": \"Varies by jurisdiction; banned in some countries, restricted on exchanges.\"},\n",
        "  {\"que\": \"Double-Spending Prevention\", \"ans\": \"Avoid unconfirmed transactions; wait for multiple confirmations based on amount.\"},\n",
        "  {\"que\": \"Bitcoin Cash Functionality\", \"ans\": \"Larger block sizes enable faster transactions than Bitcoin, suited for retail use.\"},\n",
        "  {\"que\": \"Rollup (Blockchain)\", \"ans\": \"Layer-2 scaling solution bundling transactions off-chain for efficiency, used in Ethereum.\"},\n",
        "  {\"que\": \"PoS Risks\", \"ans\": \"Centralization, security flaws, liquidity lockup, and technical complexity for validators.\"},\n",
        "  {\"que\": \"Bitcoin Pizza Day\", \"ans\": \"Celebrates the first BTC transaction for pizza in 2010, now a crypto cultural event.\"},\n",
        "  {\"que\": \"Trustless Systems\", \"ans\": \"Blockchain enables transactions without inqueediaries, though code vulnerabilities exist.\"},\n",
        "  {\"que\": \"Is Cryptocurrency Money?\", \"ans\": \"Lacks widespread acceptance, store of value, and unit of account traits of traditional money.\"},\n",
        "  {\"que\": \"Withdrawing Crypto from Exchanges\", \"ans\": \"Transfer to non-custodial wallets using public addresses, verifying compatibility.\"},\n",
        "  {\"que\": \"Generating Private Keys\", \"ans\": \"Possible via dice rolls or tools like Bitaddress, though hardware wallets are safer.\"},\n",
        "  {\"que\": \"Bitcoin Value Drivers\", \"ans\": \"Scarcity, decentralization, security, and utility as a borderless digital currency.\"},\n",
        "  {\"que\": \"Wallet Security Practices\", \"ans\": \"Use hardware wallets for large holdings, software wallets for small daily amounts.\"},\n",
        "  {\"que\": \"Account Takeover Prevention\", \"ans\": \"Use 2FA, hardware keys, and cold storage to protect against phishing and hacks.\"},\n",
        "  {\"que\": \"Crypto Airdrops\", \"ans\": \"Free token distributions to promote adoption, liquidity, and community engagement.\"},\n",
        "  {\"que\": \"Bitcoin Cash vs. Bitcoin\", \"ans\": \"BCH prioritizes transaction speed; BTC focuses on security and store of value.\"},\n",
        "  {\"que\": \"Dusting Attack Motivations\", \"ans\": \"De-anonymize holders, advertise, stress-test networks, or obscure criminal trails.\"},\n",
        "  {\"que\": \"Vampire Attack (DeFi)\", \"ans\": \"Siphoning liquidity from one platform (e.g., Uniswap) to another (e.g., SushiSwap) via incentives.\"},\n",
        "  {\"que\": \"Bitcoin System Features\", \"ans\": \"Decentralized, capped supply, blockchain-based, energy-intensive mining via PoW.\"},\n",
        "  {\"que\": \"Oracles (Blockchain)\", \"ans\": \"Bridge off-chain data to smart contracts, enabling real-world applications like insurance.\"},\n",
        "  {\"que\": \"SushiSwap Impact\", \"ans\": \"Highlighted DeFi's dynamism, pushing protocols toward decentralization and fair launches.\"},\n",
        "  {\"que\": \"Wallet Selection Strategy\", \"ans\": \"Combine hardware (savings) and software (spending) wallets for balanced security/convenience.\"},\n",
        "  {\"que\": \"Trustless System Risks\", \"ans\": \"Code vulnerabilities exist, but audits and insurance mitigate risks in DeFi protocols.\"},\n",
        "  {\"que\": \"Paper Wallet Risks\", \"ans\": \"Change addresses must be set to avoid fund loss; sweeping keys is safer than importing.\"},\n",
        "  {\"que\": \"Bitcoin's Value Proposition\", \"ans\": \"Scarce, portable, secure, and censorship-resistant, appealing as 'digital gold'.\"},\n",
        "  {\"que\": \"Cold Wallet Pros/Cons\", \"ans\": \"Secure but less convenient; hardware wallets cost $50-$200 but protect large holdings.\"}\n",
        "]"
      ],
      "metadata": {
        "id": "pv8eQVZkuvRx"
      },
      "execution_count": 7,
      "outputs": []
    },
    {
      "cell_type": "code",
      "source": [
        "# Save JSONL file in the working directory\n",
        "with open(\"database_0520.jsonl\", \"w\") as f:\n",
        "    for entry in qna_data:\n",
        "        f.write(json.dumps(entry) + \"\\n\")\n",
        "\n",
        "print(\"JSONL file saved successfully!\")"
      ],
      "metadata": {
        "colab": {
          "base_uri": "https://localhost:8080/"
        },
        "id": "8E1ywDruwRH1",
        "outputId": "b59e30a4-480f-45e7-bbbd-9f76dfe3dd38"
      },
      "execution_count": 8,
      "outputs": [
        {
          "output_type": "stream",
          "name": "stdout",
          "text": [
            "JSONL file saved successfully!\n"
          ]
        }
      ]
    }
  ]
}
